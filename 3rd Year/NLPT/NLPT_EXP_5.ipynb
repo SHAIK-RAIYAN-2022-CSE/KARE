{
  "nbformat": 4,
  "nbformat_minor": 0,
  "metadata": {
    "colab": {
      "provenance": [],
      "authorship_tag": "ABX9TyP4XjvuNVbVx4ZPCztlklgi",
      "include_colab_link": true
    },
    "kernelspec": {
      "name": "python3",
      "display_name": "Python 3"
    },
    "language_info": {
      "name": "python"
    }
  },
  "cells": [
    {
      "cell_type": "markdown",
      "metadata": {
        "id": "view-in-github",
        "colab_type": "text"
      },
      "source": [
        "<a href=\"https://colab.research.google.com/github/SHAIK-RAIYAN-2022-CSE/KARE/blob/main/3rd%20Year/NLPT/NLPT_EXP_5.ipynb\" target=\"_parent\"><img src=\"https://colab.research.google.com/assets/colab-badge.svg\" alt=\"Open In Colab\"/></a>"
      ]
    },
    {
      "cell_type": "code",
      "execution_count": 15,
      "metadata": {
        "id": "A6fgKIfSwdAO",
        "colab": {
          "base_uri": "https://localhost:8080/"
        },
        "outputId": "249bf1c6-470b-4218-adaa-9bb622fbc4ea"
      },
      "outputs": [
        {
          "output_type": "stream",
          "name": "stderr",
          "text": [
            "[nltk_data] Downloading package punkt to /root/nltk_data...\n",
            "[nltk_data]   Package punkt is already up-to-date!\n",
            "[nltk_data] Downloading package stopwords to /root/nltk_data...\n",
            "[nltk_data]   Package stopwords is already up-to-date!\n"
          ]
        }
      ],
      "source": [
        "import nltk\n",
        "nltk.download('punkt')\n",
        "nltk.download('stopwords')\n",
        "from nltk.corpus import stopwords\n",
        "from nltk.tokenize import word_tokenize\n",
        "\n",
        "doc1 =\"The night was so dark that even the moon afraid to shine\"\n",
        "doc2 =\"Moon and stars are shining in the dark night\"\n",
        "doc1_list = nltk.word_tokenize(doc1)\n",
        "doc2_list = nltk.word_tokenize(doc2)\n",
        "\n",
        "sw = stopwords.words('english')\n",
        "l1 =[];\n",
        "l2 =[]"
      ]
    },
    {
      "cell_type": "code",
      "source": [
        "# remove stop words from the string\n",
        "X_set = {w for w in doc1_list if not w in sw}\n",
        "Y_set = {w for w in doc2_list if not w in sw}\n",
        "print(X_set)\n",
        "print(Y_set)"
      ],
      "metadata": {
        "colab": {
          "base_uri": "https://localhost:8080/"
        },
        "id": "mPOTVHtU08Cq",
        "outputId": "0f7d318f-fbf5-49cc-dffd-0b5c9c850d39"
      },
      "execution_count": 16,
      "outputs": [
        {
          "output_type": "stream",
          "name": "stdout",
          "text": [
            "{'even', 'The', 'shine', 'dark', 'moon', 'afraid', 'night'}\n",
            "{'Moon', 'dark', 'shining', 'stars', 'night'}\n"
          ]
        }
      ]
    },
    {
      "cell_type": "code",
      "source": [
        "# form a set containing keywords of both strings\n",
        "rvector = X_set.union(Y_set)\n",
        "for w in rvector:\n",
        "    if w in X_set: l1.append(1) # create a vector\n",
        "    else: l1.append(0)\n",
        "    if w in Y_set: l2.append(1)\n",
        "    else: l2.append(0)\n",
        "c = 0\n",
        "# cosine formula\n",
        "for i in range(len(rvector)):\n",
        "        c+= l1[i]*l2[i]\n",
        "cosine = c / float((sum(l1)*sum(l2))**0.5)\n",
        "print(\"Cosine Similarity Score: \", cosine)\n"
      ],
      "metadata": {
        "colab": {
          "base_uri": "https://localhost:8080/"
        },
        "id": "SWhNKptDxNVh",
        "outputId": "d09d3e9e-d649-4795-fdd3-d244b61581e0"
      },
      "execution_count": 17,
      "outputs": [
        {
          "output_type": "stream",
          "name": "stdout",
          "text": [
            "Cosine Similarity Score:  0.3380617018914066\n"
          ]
        }
      ]
    }
  ]
}