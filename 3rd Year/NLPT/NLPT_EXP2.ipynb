{
  "nbformat": 4,
  "nbformat_minor": 0,
  "metadata": {
    "colab": {
      "provenance": [],
      "authorship_tag": "ABX9TyNiEakSPWvEanQFHw+TnIGF",
      "include_colab_link": true
    },
    "kernelspec": {
      "name": "python3",
      "display_name": "Python 3"
    },
    "language_info": {
      "name": "python"
    }
  },
  "cells": [
    {
      "cell_type": "markdown",
      "metadata": {
        "id": "view-in-github",
        "colab_type": "text"
      },
      "source": [
        "<a href=\"https://colab.research.google.com/github/SHAIK-RAIYAN-2022-CSE/KARE/blob/main/3rd%20Year/NLPT/NLPT_EXP2.ipynb\" target=\"_parent\"><img src=\"https://colab.research.google.com/assets/colab-badge.svg\" alt=\"Open In Colab\"/></a>"
      ]
    },
    {
      "cell_type": "code",
      "source": [
        "# With NLTK Library"
      ],
      "metadata": {
        "id": "RNylSi99MEAl"
      },
      "execution_count": null,
      "outputs": []
    },
    {
      "cell_type": "code",
      "execution_count": null,
      "metadata": {
        "colab": {
          "base_uri": "https://localhost:8080/"
        },
        "id": "MAiC7HpK2w50",
        "outputId": "3f775f1c-fd3d-41cd-cca5-587652ecc65b"
      },
      "outputs": [
        {
          "output_type": "stream",
          "name": "stdout",
          "text": [
            "['This is my first program in python.', 'I am practicing NLP codes with this platform.', 'The purpose is to gain pratctical knowledge about NLP.']\n"
          ]
        },
        {
          "output_type": "stream",
          "name": "stderr",
          "text": [
            "[nltk_data] Downloading package punkt to /root/nltk_data...\n",
            "[nltk_data]   Package punkt is already up-to-date!\n"
          ]
        }
      ],
      "source": [
        "import nltk\n",
        "nltk.download('punkt')\n",
        "sentence_data = \"This is my first program in python. I am practicing NLP codes with this platform. The purpose is to gain pratctical knowledge about NLP.\"\n",
        "nltk_tokens = nltk.sent_tokenize(sentence_data)\n",
        "print (nltk_tokens)"
      ]
    },
    {
      "cell_type": "code",
      "source": [
        "word_data= \"This code is to understand word tokenization.\"\n",
        "nltk_tokens = nltk.word_tokenize(word_data)\n",
        "print (nltk_tokens)"
      ],
      "metadata": {
        "colab": {
          "base_uri": "https://localhost:8080/"
        },
        "id": "pG0M2WhbDmBn",
        "outputId": "74b9a1a3-a922-4bd5-880b-64b642158416"
      },
      "execution_count": null,
      "outputs": [
        {
          "output_type": "stream",
          "name": "stdout",
          "text": [
            "['This', 'code', 'is', 'to', 'understand', 'word', 'tokenization', '.']\n"
          ]
        }
      ]
    },
    {
      "cell_type": "code",
      "source": [
        "from nltk.corpus import stopwords\n",
        "nltk.download('stopwords')\n",
        "print(stopwords.words('english'))"
      ],
      "metadata": {
        "colab": {
          "base_uri": "https://localhost:8080/"
        },
        "id": "shGF_QIzDmUV",
        "outputId": "6c97b73e-ac56-4899-ea5b-f0c31c1a49af"
      },
      "execution_count": null,
      "outputs": [
        {
          "output_type": "stream",
          "name": "stdout",
          "text": [
            "['i', 'me', 'my', 'myself', 'we', 'our', 'ours', 'ourselves', 'you', \"you're\", \"you've\", \"you'll\", \"you'd\", 'your', 'yours', 'yourself', 'yourselves', 'he', 'him', 'his', 'himself', 'she', \"she's\", 'her', 'hers', 'herself', 'it', \"it's\", 'its', 'itself', 'they', 'them', 'their', 'theirs', 'themselves', 'what', 'which', 'who', 'whom', 'this', 'that', \"that'll\", 'these', 'those', 'am', 'is', 'are', 'was', 'were', 'be', 'been', 'being', 'have', 'has', 'had', 'having', 'do', 'does', 'did', 'doing', 'a', 'an', 'the', 'and', 'but', 'if', 'or', 'because', 'as', 'until', 'while', 'of', 'at', 'by', 'for', 'with', 'about', 'against', 'between', 'into', 'through', 'during', 'before', 'after', 'above', 'below', 'to', 'from', 'up', 'down', 'in', 'out', 'on', 'off', 'over', 'under', 'again', 'further', 'then', 'once', 'here', 'there', 'when', 'where', 'why', 'how', 'all', 'any', 'both', 'each', 'few', 'more', 'most', 'other', 'some', 'such', 'no', 'nor', 'not', 'only', 'own', 'same', 'so', 'than', 'too', 'very', 's', 't', 'can', 'will', 'just', 'don', \"don't\", 'should', \"should've\", 'now', 'd', 'll', 'm', 'o', 're', 've', 'y', 'ain', 'aren', \"aren't\", 'couldn', \"couldn't\", 'didn', \"didn't\", 'doesn', \"doesn't\", 'hadn', \"hadn't\", 'hasn', \"hasn't\", 'haven', \"haven't\", 'isn', \"isn't\", 'ma', 'mightn', \"mightn't\", 'mustn', \"mustn't\", 'needn', \"needn't\", 'shan', \"shan't\", 'shouldn', \"shouldn't\", 'wasn', \"wasn't\", 'weren', \"weren't\", 'won', \"won't\", 'wouldn', \"wouldn't\"]\n"
          ]
        },
        {
          "output_type": "stream",
          "name": "stderr",
          "text": [
            "[nltk_data] Downloading package stopwords to /root/nltk_data...\n",
            "[nltk_data]   Package stopwords is already up-to-date!\n"
          ]
        }
      ]
    },
    {
      "cell_type": "code",
      "source": [
        "from nltk.corpus import stopwords\n",
        "from nltk.tokenize import word_tokenize\n",
        "example_sent = \"\"\"This code is to understand the concept of stop words removal. Our faculty taught this concept in class.\"\"\"\n",
        "stop_words = set(stopwords.words('english'))\n",
        "word_tokens = word_tokenize(example_sent)\n",
        "filtered_sentence = [w for w in word_tokens if not w. lower() in stop_words]\n",
        "filtered_sentence = []\n",
        "for w in word_tokens:\n",
        "  if w not in stop_words:\n",
        "    filtered_sentence.append(w)\n",
        "print(word_tokens)\n",
        "print(filtered_sentence)"
      ],
      "metadata": {
        "colab": {
          "base_uri": "https://localhost:8080/"
        },
        "id": "3jlNlbAqDmW9",
        "outputId": "b456b95d-af5c-4f46-bcc9-8414b09cf627"
      },
      "execution_count": null,
      "outputs": [
        {
          "output_type": "stream",
          "name": "stdout",
          "text": [
            "['This', 'code', 'is', 'to', 'understand', 'the', 'concept', 'of', 'stop', 'words', 'removal', '.', 'Our', 'faculty', 'taught', 'this', 'concept', 'in', 'class', '.']\n",
            "['This', 'code', 'understand', 'concept', 'stop', 'words', 'removal', '.', 'Our', 'faculty', 'taught', 'concept', 'class', '.']\n"
          ]
        }
      ]
    },
    {
      "cell_type": "code",
      "source": [
        "from nltk.stem import PorterStemmer\n",
        "from nltk.tokenize import word_tokenize\n",
        "ps = PorterStemmer()\n",
        "sentence = \"Coders are coding with few programming devices\"\n",
        "words = word_tokenize(sentence)\n",
        "for w in words:\n",
        "  print(w, \" : \", ps.stem(w))"
      ],
      "metadata": {
        "colab": {
          "base_uri": "https://localhost:8080/"
        },
        "id": "wF31Vr-2DmZl",
        "outputId": "58a0c276-9ccd-4f64-c171-3ff3b8d8f05d"
      },
      "execution_count": null,
      "outputs": [
        {
          "output_type": "stream",
          "name": "stdout",
          "text": [
            "Coders  :  coder\n",
            "are  :  are\n",
            "coding  :  code\n",
            "with  :  with\n",
            "few  :  few\n",
            "programming  :  program\n",
            "devices  :  devic\n"
          ]
        }
      ]
    },
    {
      "cell_type": "code",
      "source": [
        "nltk.download('wordnet')\n",
        "from nltk.stem import WordNetLemmatizer\n",
        "lemmatizer = WordNetLemmatizer()\n",
        "print(\"was :\", lemmatizer.lemmatize(\"was\" , pos = \"v\"))\n",
        "print(\"worst :\", lemmatizer.lemmatize(\"worst\" , pos = \"a\"))\n",
        "print(\"caring :\", lemmatizer.lemmatize( \"caring\", pos = \"v\"))"
      ],
      "metadata": {
        "colab": {
          "base_uri": "https://localhost:8080/"
        },
        "id": "Hl1lWYEHDmcg",
        "outputId": "56a01767-c1bc-476f-9f82-fedb690aa549"
      },
      "execution_count": null,
      "outputs": [
        {
          "output_type": "stream",
          "name": "stdout",
          "text": [
            "was : be\n",
            "worst : bad\n",
            "caring : care\n"
          ]
        },
        {
          "output_type": "stream",
          "name": "stderr",
          "text": [
            "[nltk_data] Downloading package wordnet to /root/nltk_data...\n",
            "[nltk_data]   Package wordnet is already up-to-date!\n"
          ]
        }
      ]
    },
    {
      "cell_type": "code",
      "source": [
        "# With Spacy Library"
      ],
      "metadata": {
        "id": "DzvGWWgLBNUW"
      },
      "execution_count": null,
      "outputs": []
    },
    {
      "cell_type": "code",
      "source": [
        "import spacy\n",
        "en = spacy.load('en_core_web_sm')\n",
        "sw_spacy = en.Defaults.stop_words\n",
        "print(sw_spacy)"
      ],
      "metadata": {
        "colab": {
          "base_uri": "https://localhost:8080/"
        },
        "id": "BeXSXcLcBOJz",
        "outputId": "fddaae0f-9e24-43b3-f5e4-855051b502a0"
      },
      "execution_count": null,
      "outputs": [
        {
          "output_type": "stream",
          "name": "stdout",
          "text": [
            "{'been', 'beforehand', 'hence', 'we', 'would', 'should', 'within', 'to', 'per', 'n’t', 'wherein', 'serious', 'when', 'no', 'anyhow', '‘re', 'first', 'too', 'as', 'less', 'whole', 'that', 'last', 'hereby', \"'d\", 'each', 'every', 'us', 'himself', 'please', 'do', 'while', 'nobody', 'seeming', 'both', 'forty', 'be', 'six', 'her', 'or', 'whereafter', 'own', 'whoever', 'out', 'up', 'one', 'everyone', 'can', 'although', 'very', \"'ll\", 'with', '’re', 'am', 'if', 'alone', 'sometime', 'either', 'already', 'had', 'again', 'enough', 'more', 'nowhere', 'many', 'except', 'this', 'show', 'others', 'there', 'on', 'themselves', 're', 'they', 'my', 'also', 'namely', 'whither', 'anyway', 'around', 'ever', 'anything', 'did', 'most', 'ourselves', 'something', 'nine', 'see', 'thus', 'ours', 'everywhere', 'five', 'down', 'herein', 'wherever', 'then', 'all', 'twelve', 'which', 'after', 'since', 'top', 'were', 'what', 'mine', 'almost', 'perhaps', 'are', 'else', 'cannot', 'former', 'twenty', 'nor', 'afterwards', 'four', 'ten', 'done', 'our', 'therefore', 'full', 'make', 'doing', 'thereafter', 'eleven', '’ll', 'their', 'made', 'for', 'least', 'them', 'may', 'myself', 'whence', '‘s', 'during', 'me', 'therein', 'across', 'another', 'thereupon', 'formerly', 'the', 'a', 'than', 'who', 'an', 'whereby', 'seems', 'in', 'into', 'became', 'beside', 'below', 'not', 'before', 'it', 'must', 'always', \"'ve\", '’d', 'amount', 'will', 'being', 'against', 'his', 'becomes', 'until', 'bottom', '‘m', 'other', 'by', 'hereafter', 'whose', 'yourselves', 'indeed', '‘d', 'him', 'same', 'go', 'name', 'off', 'hundred', 'herself', 'anywhere', 'these', 'yours', 'any', 'from', 'two', 'thence', 'above', 'elsewhere', 'seemed', 'various', 'seem', 'such', 'often', \"'s\", 'hereupon', 'might', 'even', 'about', 'have', 'thereby', 'move', 'thru', 'how', 'everything', 'sixty', 'toward', 'part', 'mostly', 'now', 'does', 'well', '’m', 'besides', 'call', \"'re\", 'fifty', 'towards', '‘ll', 'throughout', 'amongst', 'along', 'regarding', 'among', 'only', 'latterly', 'onto', 'ca', 'has', 'put', 'hers', 'keep', 'so', 'at', 'however', 'i', 'anyone', 'further', 'back', 'three', 'using', 'your', 'between', 'whatever', 'could', 'via', 'becoming', 'over', 'but', 'why', 'get', 'its', 'you', 'empty', 'behind', 'without', 'nothing', 'none', \"'m\", 'next', 'used', 'whenever', 'yourself', 'whether', 'he', 'due', 'fifteen', 'under', 'meanwhile', 'somewhere', 'whom', 'once', 'she', 'some', \"n't\", 'here', 'n‘t', 'really', 'moreover', 'become', 'front', 'through', 'whereupon', 'noone', 'and', 'is', 'few', 'eight', 'otherwise', 'third', 'nevertheless', 'still', '’ve', 'much', 'those', 'yet', 'whereas', '‘ve', 'beyond', '’s', 'just', 'itself', 'take', 'though', 'rather', 'give', 'upon', 'side', 'say', 'sometimes', 'someone', 'because', 'never', 'of', 'where', 'together', 'quite', 'somehow', 'unless', 'neither', 'several', 'was', 'latter'}\n"
          ]
        }
      ]
    },
    {
      "cell_type": "code",
      "source": [
        "print(len(sw_spacy))"
      ],
      "metadata": {
        "colab": {
          "base_uri": "https://localhost:8080/"
        },
        "id": "-7q04UGoCKC_",
        "outputId": "99006d96-6db3-40ca-a766-f8ca257e8c8c"
      },
      "execution_count": null,
      "outputs": [
        {
          "output_type": "stream",
          "name": "stdout",
          "text": [
            "326\n"
          ]
        }
      ]
    },
    {
      "cell_type": "code",
      "source": [
        "nlp = spacy.blank(\"en\")\n",
        "doc = nlp(\"this is tokenization with spacy\")\n",
        "for token in doc:\n",
        "  print(token)"
      ],
      "metadata": {
        "colab": {
          "base_uri": "https://localhost:8080/"
        },
        "id": "yYAiIVMCCJ5G",
        "outputId": "bd1d24bf-036b-415e-b92b-b6e6e2898c67"
      },
      "execution_count": null,
      "outputs": [
        {
          "output_type": "stream",
          "name": "stdout",
          "text": [
            "this\n",
            "is\n",
            "tokenization\n",
            "with\n",
            "spacy\n"
          ]
        }
      ]
    },
    {
      "cell_type": "code",
      "source": [
        "for ent in doc.ents:\n",
        "  print(ent.text, ent.start_char, ent.end_char, ent.label_)\n",
        "sent_0 = en('Dr. Abdul Kalam went to the university in Germany yesterday')\n",
        "for token in sent_0:\n",
        "  print(token.text, token.ent_type_)"
      ],
      "metadata": {
        "id": "247pfTaKCJ12",
        "outputId": "402f3ad3-97a7-4e73-c01b-6690e67b0c22",
        "colab": {
          "base_uri": "https://localhost:8080/"
        }
      },
      "execution_count": null,
      "outputs": [
        {
          "output_type": "stream",
          "name": "stdout",
          "text": [
            "Dr. \n",
            "Abdul PERSON\n",
            "Kalam PERSON\n",
            "went \n",
            "to \n",
            "the \n",
            "university \n",
            "in \n",
            "Germany GPE\n",
            "yesterday DATE\n"
          ]
        }
      ]
    },
    {
      "cell_type": "code",
      "source": [
        "for ent in sent_0.ents:\n",
        "  print(ent.text, ent.label_)"
      ],
      "metadata": {
        "id": "9wKV0ug2CJzQ",
        "outputId": "0d670355-8510-433e-cade-75ac45d95ac3",
        "colab": {
          "base_uri": "https://localhost:8080/"
        }
      },
      "execution_count": null,
      "outputs": [
        {
          "output_type": "stream",
          "name": "stdout",
          "text": [
            "Abdul Kalam PERSON\n",
            "Germany GPE\n",
            "yesterday DATE\n"
          ]
        }
      ]
    }
  ]
}