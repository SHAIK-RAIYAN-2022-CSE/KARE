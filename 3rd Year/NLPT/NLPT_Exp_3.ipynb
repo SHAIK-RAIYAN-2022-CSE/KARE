{
  "nbformat": 4,
  "nbformat_minor": 0,
  "metadata": {
    "colab": {
      "provenance": [],
      "authorship_tag": "ABX9TyOIkAsmYBiaR78aMms3ho2Q",
      "include_colab_link": true
    },
    "kernelspec": {
      "name": "python3",
      "display_name": "Python 3"
    },
    "language_info": {
      "name": "python"
    }
  },
  "cells": [
    {
      "cell_type": "markdown",
      "metadata": {
        "id": "view-in-github",
        "colab_type": "text"
      },
      "source": [
        "<a href=\"https://colab.research.google.com/github/SHAIK-RAIYAN-2022-CSE/KARE/blob/main/3rd%20Year/NLPT/NLPT_Exp_3.ipynb\" target=\"_parent\"><img src=\"https://colab.research.google.com/assets/colab-badge.svg\" alt=\"Open In Colab\"/></a>"
      ]
    },
    {
      "cell_type": "code",
      "source": [
        "#Coding for POS tagging"
      ],
      "metadata": {
        "id": "wam21DEVDthW"
      },
      "execution_count": null,
      "outputs": []
    },
    {
      "cell_type": "code",
      "execution_count": null,
      "metadata": {
        "id": "c8LHoEhy_5We"
      },
      "outputs": [],
      "source": [
        "import nltk\n",
        "nltk.download('punkt')\n",
        "nltk.download('stopwords')\n",
        "nltk.download('averaged_perceptron_tagger')\n",
        "from nltk.tokenize import word_tokenize, sent_tokenize\n",
        "txt = \"The big brown fox jumps over the lazy dog\"\n",
        "tokenized = sent_tokenize(txt)\n",
        "for i in tokenized:\n",
        "  wordsList = nltk.word_tokenize(i)\n",
        "  tagged = nltk.pos_tag(wordsList)\n",
        "  print(tagged)"
      ]
    },
    {
      "cell_type": "code",
      "source": [
        "# Coding for Ambiguity analysis"
      ],
      "metadata": {
        "id": "tKy-_zmkDwyU"
      },
      "execution_count": 5,
      "outputs": []
    },
    {
      "cell_type": "code",
      "source": [
        "pip install nltk"
      ],
      "metadata": {
        "colab": {
          "base_uri": "https://localhost:8080/"
        },
        "id": "H4WoNLAKD3Go",
        "outputId": "5c43c2f4-b284-4661-964f-3fd74aab107e"
      },
      "execution_count": 6,
      "outputs": [
        {
          "metadata": {
            "tags": null
          },
          "name": "stdout",
          "output_type": "stream",
          "text": [
            "Requirement already satisfied: nltk in /usr/local/lib/python3.10/dist-packages (3.8.1)\n",
            "Requirement already satisfied: click in /usr/local/lib/python3.10/dist-packages (from nltk) (8.1.7)\n",
            "Requirement already satisfied: joblib in /usr/local/lib/python3.10/dist-packages (from nltk) (1.4.2)\n",
            "Requirement already satisfied: regex>=2021.8.3 in /usr/local/lib/python3.10/dist-packages (from nltk) (2024.5.15)\n",
            "Requirement already satisfied: tqdm in /usr/local/lib/python3.10/dist-packages (from nltk) (4.66.4)\n"
          ]
        }
      ]
    },
    {
      "cell_type": "code",
      "source": [
        "# Lexical ambiguity"
      ],
      "metadata": {
        "id": "B0A-mfNWPNlK"
      },
      "execution_count": null,
      "outputs": []
    },
    {
      "cell_type": "code",
      "source": [
        "import nltk\n",
        "from nltk.corpus import wordnet as wn\n",
        "from nltk.tokenize import word_tokenize\n",
        "from nltk.wsd import lesk\n",
        "\n",
        "# Ensure you have downloaded the necessary resources\n",
        "nltk.download('wordnet')\n",
        "nltk.download('omw-1.4')\n",
        "nltk.download('punkt')\n",
        "\n",
        "def classify_ambiguity(word, context):\n",
        "    synsets = wn.synsets(word)\n",
        "    if len(synsets) > 1:\n",
        "        return \"Lexical Ambiguity\"\n",
        "    return \"No Ambiguity\"\n",
        "\n",
        "def detect_ambiguity_in_sentence(sentence):\n",
        "    words = word_tokenize(sentence)\n",
        "    for word in words:\n",
        "        # Classify the ambiguity\n",
        "        ambiguity_type = classify_ambiguity(word, sentence)\n",
        "        if ambiguity_type == \"Lexical Ambiguity\":\n",
        "            print(f\"The word '{word}' is potentially ambiguous ({ambiguity_type}). It has the following meanings:\")\n",
        "            synsets = wn.synsets(word)\n",
        "            for synset in synsets:\n",
        "                print(f\"- {synset.definition()}\")\n",
        "            best_synset = lesk(words, word)\n",
        "            if best_synset:\n",
        "                print(f\"Based on the context, the most likely meaning is: {best_synset.definition()}\")\n",
        "            else:\n",
        "                print(f\"Could not determine the meaning based on the context.\")\n",
        "            print()\n",
        "        else:\n",
        "            print(f\"The word '{word}' is not ambiguous.\\n\")\n",
        "\n",
        "# Example usage\n",
        "sentence = input(\"Enter the input sentence: \")\n",
        "detect_ambiguity_in_sentence(sentence)\n"
      ],
      "metadata": {
        "colab": {
          "base_uri": "https://localhost:8080/"
        },
        "id": "zRsAmzviLaMS",
        "outputId": "073081bd-adb9-4da6-d841-f865b68fca5c"
      },
      "execution_count": 7,
      "outputs": [
        {
          "metadata": {
            "tags": null
          },
          "name": "stderr",
          "output_type": "stream",
          "text": [
            "[nltk_data] Downloading package wordnet to /root/nltk_data...\n",
            "[nltk_data] Downloading package omw-1.4 to /root/nltk_data...\n",
            "[nltk_data] Downloading package punkt to /root/nltk_data...\n",
            "[nltk_data]   Package punkt is already up-to-date!\n"
          ]
        },
        {
          "output_type": "stream",
          "name": "stdout",
          "text": [
            "Enter the input sentence: This is a input sentence given by me\n",
            "The word 'This' is not ambiguous.\n",
            "\n",
            "The word 'is' is potentially ambiguous (Lexical Ambiguity). It has the following meanings:\n",
            "- have the quality of being; (copula, used with an adjective or a predicate noun)\n",
            "- be identical to; be someone or something\n",
            "- occupy a certain position or area; be somewhere\n",
            "- have an existence, be extant\n",
            "- happen, occur, take place\n",
            "- be identical or equivalent to\n",
            "- form or compose\n",
            "- work in a specific place, with a specific subject, or in a specific function\n",
            "- represent, as of a character on stage\n",
            "- spend or use time\n",
            "- have life, be alive\n",
            "- to remain unmolested, undisturbed, or uninterrupted -- used only in infinitive form\n",
            "- be priced at\n",
            "Based on the context, the most likely meaning is: represent, as of a character on stage\n",
            "\n",
            "The word 'a' is potentially ambiguous (Lexical Ambiguity). It has the following meanings:\n",
            "- a metric unit of length equal to one ten billionth of a meter (or 0.0001 micron); used to specify wavelengths of electromagnetic radiation\n",
            "- any of several fat-soluble vitamins essential for normal vision; prevents night blindness or inflammation or dryness of the eyes\n",
            "- one of the four nucleotides used in building DNA; all four nucleotides have a common phosphate group and a sugar (ribose)\n",
            "- (biochemistry) purine base found in DNA and RNA; pairs with thymine in DNA and with uracil in RNA\n",
            "- the basic unit of electric current adopted under the Systeme International d'Unites\n",
            "- the 1st letter of the Roman alphabet\n",
            "- the blood group whose red cells carry the A antigen\n",
            "Based on the context, the most likely meaning is: one of the four nucleotides used in building DNA; all four nucleotides have a common phosphate group and a sugar (ribose)\n",
            "\n",
            "The word 'input' is potentially ambiguous (Lexical Ambiguity). It has the following meanings:\n",
            "- signal going into an electronic system\n",
            "- a statement that expresses a personal opinion or belief or adds information\n",
            "- any stimulating information or event; acts to arouse action\n",
            "- a component of production; something that goes into the production of output\n",
            "- enter (data or a program) into a computer\n",
            "Based on the context, the most likely meaning is: a statement that expresses a personal opinion or belief or adds information\n",
            "\n",
            "The word 'sentence' is potentially ambiguous (Lexical Ambiguity). It has the following meanings:\n",
            "- a string of words satisfying the grammatical rules of a language\n",
            "- (criminal law) a final judgment of guilty in a criminal case and the punishment that is imposed\n",
            "- the period of time a prisoner is imprisoned\n",
            "- pronounce a sentence on (somebody) in a court of law\n",
            "Based on the context, the most likely meaning is: pronounce a sentence on (somebody) in a court of law\n",
            "\n",
            "The word 'given' is potentially ambiguous (Lexical Ambiguity). It has the following meanings:\n",
            "- an assumption that is taken for granted\n",
            "- cause to have, in the abstract sense or physical sense\n",
            "- be the cause or source of\n",
            "- transfer possession of something concrete or abstract to somebody\n",
            "- convey or reveal information\n",
            "- convey, as of a compliment, regards, attention, etc.; bestow\n",
            "- organize or be responsible for\n",
            "- convey or communicate; of a smile, a look, a physical gesture\n",
            "- give as a present; make a gift of\n",
            "- cause to happen or be responsible for\n",
            "- dedicate\n",
            "- give or supply\n",
            "- transmit (knowledge or skills)\n",
            "- bring about\n",
            "- leave with; give temporarily\n",
            "- emit or utter\n",
            "- endure the loss of\n",
            "- place into the hands or custody of\n",
            "- give entirely to a specific person, activity, or cause\n",
            "- give (as medicine)\n",
            "- give or convey physically\n",
            "- bestow\n",
            "- bestow, especially officially\n",
            "- move in order to make room for someone for something\n",
            "- give food to\n",
            "- contribute to some cause\n",
            "- break down, literally or metaphorically\n",
            "- estimate the duration or outcome of something\n",
            "- execute and deliver\n",
            "- deliver in exchange or recompense\n",
            "- afford access to\n",
            "- present to view\n",
            "- perform for an audience\n",
            "- be flexible under stress of physical force\n",
            "- propose\n",
            "- accord by verdict\n",
            "- manifest or show\n",
            "- offer in good faith\n",
            "- submit for consideration, judgment, or use\n",
            "- guide or direct, as by behavior of persuasion\n",
            "- allow to have or take\n",
            "- inflict as a punishment\n",
            "- occur\n",
            "- consent to engage in sexual intercourse with a man\n",
            "- proffer (a body part)\n",
            "- acknowledged as a supposition\n",
            "- (usually followed by `to') naturally disposed toward\n",
            "Based on the context, the most likely meaning is: acknowledged as a supposition\n",
            "\n",
            "The word 'by' is potentially ambiguous (Lexical Ambiguity). It has the following meanings:\n",
            "- so as to pass a given point\n",
            "- in reserve; not for immediate use\n",
            "Based on the context, the most likely meaning is: so as to pass a given point\n",
            "\n",
            "The word 'me' is not ambiguous.\n",
            "\n"
          ]
        }
      ]
    }
  ]
}