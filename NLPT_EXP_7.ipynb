{
  "nbformat": 4,
  "nbformat_minor": 0,
  "metadata": {
    "colab": {
      "provenance": [],
      "authorship_tag": "ABX9TyOcv3eNVvrkQrdghXhtueTx",
      "include_colab_link": true
    },
    "kernelspec": {
      "name": "python3",
      "display_name": "Python 3"
    },
    "language_info": {
      "name": "python"
    }
  },
  "cells": [
    {
      "cell_type": "markdown",
      "metadata": {
        "id": "view-in-github",
        "colab_type": "text"
      },
      "source": [
        "<a href=\"https://colab.research.google.com/github/SHAIK-RAIYAN-2022-CSE/KARE/blob/main/NLPT_EXP_7.ipynb\" target=\"_parent\"><img src=\"https://colab.research.google.com/assets/colab-badge.svg\" alt=\"Open In Colab\"/></a>"
      ]
    },
    {
      "cell_type": "code",
      "execution_count": null,
      "metadata": {
        "id": "S9q4qzCRO6Tp",
        "colab": {
          "base_uri": "https://localhost:8080/"
        },
        "outputId": "cbe24003-21c9-489b-a4f4-258668e7706e"
      },
      "outputs": [
        {
          "output_type": "stream",
          "name": "stderr",
          "text": [
            "[nltk_data] Downloading package punkt to /root/nltk_data...\n",
            "[nltk_data]   Unzipping tokenizers/punkt.zip.\n",
            "[nltk_data] Downloading package stopwords to /root/nltk_data...\n",
            "[nltk_data]   Unzipping corpora/stopwords.zip.\n"
          ]
        },
        {
          "output_type": "stream",
          "name": "stdout",
          "text": [
            "Cosine Similarity score:  [[0.62499592 0.90105355 0.17308475]]\n",
            "Most similar document: The dog is lazy and the fox is quick.\n"
          ]
        }
      ],
      "source": [
        "import nltk\n",
        "from sklearn.feature_extraction.text import TfidfVectorizer\n",
        "from sklearn.metrics.pairwise import cosine_similarity\n",
        "\n",
        "# Sample documents\n",
        "documents = [\n",
        "    \"The quick brown fox jumped over the lazy dog.\",\n",
        "    \"The dog is lazy and the fox is quick.\",\n",
        "    \"The dog and the fox are good companions.\"\n",
        "]\n",
        "\n",
        "\n",
        "# Tokenize and preprocess the documents\n",
        "nltk.download(\"punkt\")\n",
        "nltk.download(\"stopwords\")\n",
        "from nltk.corpus import stopwords\n",
        "from nltk.tokenize import word_tokenize\n",
        "\n",
        "stop_words = set(stopwords.words(\"english\"))\n",
        "\n",
        "def preprocess_text(text):\n",
        "    words = word_tokenize(text)\n",
        "    words = [word.lower() for word in words if word.isalnum() and word.lower() not in stop_words]\n",
        "    return \" \".join(words)\n",
        "\n",
        "preprocessed_documents = [preprocess_text(doc) for doc in documents]\n",
        "\n",
        "# Create a TF-IDF vectorizer\n",
        "vectorizer = TfidfVectorizer()\n",
        "tfidf_matrix = vectorizer.fit_transform(preprocessed_documents)\n",
        "\n",
        "# Perform a query\n",
        "query = \"The fox is quick and lazy.\"\n",
        "\n",
        "# Preprocess and transform the query\n",
        "preprocessed_query = preprocess_text(query)\n",
        "query_vector = vectorizer.transform([preprocessed_query])\n",
        "\n",
        "# Calculate cosine similarity between the query and documents\n",
        "cosine_similarities = cosine_similarity(query_vector, tfidf_matrix)\n",
        "print(\"Cosine Similarity score: \", cosine_similarities)\n",
        "\n",
        "# Get the most relevant document\n",
        "most_similar_doc_index = cosine_similarities.argmax()\n",
        "most_similar_doc = documents[most_similar_doc_index]\n",
        "\n",
        "print(f\"Most similar document: {most_similar_doc}\")\n"
      ]
    }
  ]
}